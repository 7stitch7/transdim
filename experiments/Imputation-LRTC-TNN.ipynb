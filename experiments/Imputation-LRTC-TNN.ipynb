{
 "cells": [
  {
   "cell_type": "markdown",
   "metadata": {},
   "source": [
    "# About this Notebook\n",
    "\n",
    "This notebook mainly implements a Low-Rank Tensor Completion (LRTC) model with Truncated Nuclear Norm (TNN) regularization.\n",
    "\n",
    "\n",
    "## Quick Run\n",
    "\n",
    "This notebook is publicly available for any usage at our data imputation project. Please click [**transdim - GitHub**](https://github.com/xinychen/transdim).\n"
   ]
  },
  {
   "cell_type": "markdown",
   "metadata": {},
   "source": [
    "## Low-Rank Tensor Completion"
   ]
  },
  {
   "cell_type": "markdown",
   "metadata": {},
   "source": [
    "We start by importing the necessary dependencies."
   ]
  },
  {
   "cell_type": "code",
   "execution_count": 2,
   "metadata": {},
   "outputs": [],
   "source": [
    "import numpy as np\n",
    "from numpy.linalg import inv as inv"
   ]
  },
  {
   "cell_type": "markdown",
   "metadata": {},
   "source": [
    "### Tensor Unfolding (`ten2mat`) and Matrix Folding (`mat2ten`)\n",
    "\n",
    "Using numpy reshape to perform 3rd rank tensor unfold operation. [[**link**](https://stackoverflow.com/questions/49970141/using-numpy-reshape-to-perform-3rd-rank-tensor-unfold-operation)]"
   ]
  },
  {
   "cell_type": "code",
   "execution_count": 3,
   "metadata": {},
   "outputs": [],
   "source": [
    "def ten2mat(tensor, mode):\n",
    "    return np.reshape(np.moveaxis(tensor, mode, 0), (tensor.shape[mode], -1), order = 'F')"
   ]
  },
  {
   "cell_type": "code",
   "execution_count": 4,
   "metadata": {},
   "outputs": [
    {
     "name": "stdout",
     "output_type": "stream",
     "text": [
      "tensor size:\n",
      "(3, 2, 4)\n",
      "original tensor:\n",
      "[[[ 1  2  3  4]\n",
      "  [ 3  4  5  6]]\n",
      "\n",
      " [[ 5  6  7  8]\n",
      "  [ 7  8  9 10]]\n",
      "\n",
      " [[ 9 10 11 12]\n",
      "  [11 12 13 14]]]\n",
      "\n",
      "(1) mode-1 tensor unfolding:\n",
      "[[ 1  3  2  4  3  5  4  6]\n",
      " [ 5  7  6  8  7  9  8 10]\n",
      " [ 9 11 10 12 11 13 12 14]]\n",
      "\n",
      "(2) mode-2 tensor unfolding:\n",
      "[[ 1  5  9  2  6 10  3  7 11  4  8 12]\n",
      " [ 3  7 11  4  8 12  5  9 13  6 10 14]]\n",
      "\n",
      "(3) mode-3 tensor unfolding:\n",
      "[[ 1  5  9  3  7 11]\n",
      " [ 2  6 10  4  8 12]\n",
      " [ 3  7 11  5  9 13]\n",
      " [ 4  8 12  6 10 14]]\n"
     ]
    }
   ],
   "source": [
    "X = np.array([[[1, 2, 3, 4], [3, 4, 5, 6]], \n",
    "              [[5, 6, 7, 8], [7, 8, 9, 10]], \n",
    "              [[9, 10, 11, 12], [11, 12, 13, 14]]])\n",
    "print('tensor size:')\n",
    "print(X.shape)\n",
    "print('original tensor:')\n",
    "print(X)\n",
    "print()\n",
    "print('(1) mode-1 tensor unfolding:')\n",
    "print(ten2mat(X, 0))\n",
    "print()\n",
    "print('(2) mode-2 tensor unfolding:')\n",
    "print(ten2mat(X, 1))\n",
    "print()\n",
    "print('(3) mode-3 tensor unfolding:')\n",
    "print(ten2mat(X, 2))"
   ]
  },
  {
   "cell_type": "code",
   "execution_count": 5,
   "metadata": {},
   "outputs": [],
   "source": [
    "def mat2ten(mat, tensor_size, mode):\n",
    "    index = list()\n",
    "    index.append(mode)\n",
    "    for i in range(tensor_size.shape[0]):\n",
    "        if i != mode:\n",
    "            index.append(i)\n",
    "    return np.moveaxis(np.reshape(mat, list(tensor_size[index]), order = 'F'), 0, mode)"
   ]
  },
  {
   "cell_type": "markdown",
   "metadata": {},
   "source": [
    "### Singular Value Thresholding (SVT) for TNN"
   ]
  },
  {
   "cell_type": "code",
   "execution_count": 5,
   "metadata": {},
   "outputs": [],
   "source": [
    "def svt_tnn(mat, alpha, rho, theta):\n",
    "    \"\"\"This is a Numpy dependent singular value thresholding (SVT) process.\"\"\"\n",
    "    u, s, v = np.linalg.svd(mat, full_matrices = 0)\n",
    "    vec = s.copy()\n",
    "    vec[theta :] = s[theta :] - alpha / rho\n",
    "    vec[vec < 0] = 0\n",
    "    return np.matmul(np.matmul(u, np.diag(vec)), v)"
   ]
  },
  {
   "cell_type": "markdown",
   "metadata": {},
   "source": [
    "**Potential alternative for this**:\n",
    "\n",
    "If you prefer, there is a competitively efficient singular value thresholding (SVT) process which uses the randomized SVD (`randomized_svd`) of `sklearn`."
   ]
  },
  {
   "cell_type": "code",
   "execution_count": 15,
   "metadata": {},
   "outputs": [],
   "source": [
    "from sklearn.utils.extmath import randomized_svd"
   ]
  },
  {
   "cell_type": "code",
   "execution_count": 16,
   "metadata": {},
   "outputs": [],
   "source": [
    "def svt_tnn(mat, alpha, rho, theta):\n",
    "    \"\"\"This is a sklearn dependent singular value thresholding (SVT) process.\"\"\"\n",
    "    u, s, v = randomized_svd(mat, n_components = min(mat.shape[0], mat.shape[1]), n_iter = 1)\n",
    "    vec = s.copy()\n",
    "    vec[theta :] = s[theta :] - alpha / rho\n",
    "    vec[vec < 0] = 0\n",
    "    return np.matmul(np.matmul(u, np.diag(vec)), v)"
   ]
  },
  {
   "cell_type": "markdown",
   "metadata": {},
   "source": [
    "**Understanding these codes**:\n",
    "\n",
    "- **`line 1`**: Necessary inputs including any input matrix $\\boldsymbol{X}$, weight of Truncated Nuclear Norm (TNN) regularization $\\alpha$, learning rate $\\rho$, and positive integer number $\\theta$ for nuclear norm truncation.\n",
    "\n",
    "- **`line 2`**: Compute the Singular Value Decomposition (SVD) for any matrix $\\boldsymbol{X}$ with `numpy.linalg.svd` (i.e., SVD function in `Numpy`'s linear algebra package).\n",
    "\n",
    "- **`line 3-5`**: Truncate singular values $\\sigma_{\\theta+1},...$ with the following rule:\n",
    "\n",
    "\\begin{equation}\n",
    "\\sigma_{i}=\\left[\\sigma_{i}(\\boldsymbol{X})-\\frac{\\alpha}{\\rho}\\right]_{+}.\n",
    "\\end{equation}\n",
    "\n",
    "- **`line 6`**: Return the resulted matrix."
   ]
  },
  {
   "cell_type": "markdown",
   "metadata": {},
   "source": [
    "### Define Performance Metrics\n",
    "\n",
    "- **RMSE**\n",
    "- **MAPE**"
   ]
  },
  {
   "cell_type": "code",
   "execution_count": 17,
   "metadata": {},
   "outputs": [],
   "source": [
    "def Compute_RMSE(var, var_hat):\n",
    "    return np.sqrt(np.sum((var - var_hat) ** 2) / var.shape[0])"
   ]
  },
  {
   "cell_type": "code",
   "execution_count": 18,
   "metadata": {},
   "outputs": [],
   "source": [
    "def Compute_MAPE(var, var_hat):\n",
    "    return np.sum(np.abs(var - var_hat) / var) / var.shape[0]"
   ]
  },
  {
   "cell_type": "markdown",
   "metadata": {},
   "source": [
    "### Define LRTC-TNN Function with `Numpy`"
   ]
  },
  {
   "cell_type": "code",
   "execution_count": 19,
   "metadata": {},
   "outputs": [],
   "source": [
    "def LRTC(dense_tensor, sparse_tensor, alpha, rho, theta, maxiter):\n",
    "    \"\"\"Low-Rank Tenor Completion with Truncated Nuclear Norm, LRTC-TNN.\"\"\"\n",
    "    \n",
    "    dim = np.array(sparse_tensor.shape)\n",
    "    pos_train = np.where(sparse_tensor != 0)\n",
    "    pos_missing = np.where(sparse_tensor == 0)\n",
    "    pos_test = np.where((dense_tensor != 0) & (sparse_tensor == 0))\n",
    "    \n",
    "    X = np.zeros(np.insert(dim, 0, len(dim))) # \\boldsymbol{\\mathcal{X}}\n",
    "    T = np.zeros(np.insert(dim, 0, len(dim))) # \\boldsymbol{\\mathcal{T}}\n",
    "    Z = sparse_tensor.copy()\n",
    "    for it in range(maxiter):\n",
    "        for k in range(len(dim)):\n",
    "            X[k] = mat2ten(svt_tnn(ten2mat(Z - T[k] / rho, k), alpha[k], rho, np.int(np.ceil(theta * dim[k]))), dim, k)\n",
    "        Z[pos_missing] = np.mean(X + T / rho, axis = 0)[pos_missing]\n",
    "        T = T + rho * (X - np.broadcast_to(Z, np.insert(dim, 0, len(dim))))\n",
    "        tensor_hat = np.einsum('k, kmnt -> mnt', alpha, X)\n",
    "        if (it + 1) % 50 == 0:\n",
    "            print('Iter: {}'.format(it + 1))\n",
    "            print('RMSE: {:.6}'.format(Compute_RMSE(dense_tensor[pos_test], tensor_hat[pos_test])))\n",
    "            print()\n",
    "\n",
    "    print('Imputation MAPE: {:.6}'.format(Compute_MAPE(dense_tensor[pos_test], tensor_hat[pos_test])))\n",
    "    print('Imputation RMSE: {:.6}'.format(Compute_RMSE(dense_tensor[pos_test], tensor_hat[pos_test])))\n",
    "    print()\n",
    "    \n",
    "    return tensor_hat"
   ]
  },
  {
   "cell_type": "markdown",
   "metadata": {},
   "source": [
    "**Understanding these codes**:\n",
    "\n",
    "- **`line 18-19`**: Update $\\boldsymbol{\\mathcal{Z}}_{k}^{l+1},k=1,2,3$.\n",
    "\n",
    "- **`line 20-22`**: Update $\\boldsymbol{\\mathcal{X}}_{k}^{l+1}$ by\n",
    "\n",
    "\\begin{equation}\n",
    "\\boldsymbol{\\mathcal{X}}_{k}^{l+1}=\\mathcal{P}_{\\Omega}(\\boldsymbol{\\mathcal{Y}})+\\mathcal{P}_{\\Omega}^{\\perp}\\left(\\boldsymbol{\\mathcal{Z}}_{k}^{l+1}-\\frac{1}{\\rho}\\boldsymbol{\\mathcal{T}}_{k}^{l}\\right),k=1,2,3.\n",
    "\\end{equation}\n",
    "\n",
    "- **`line 23`**: Update $\\boldsymbol{\\mathcal{T}}_{k}^{l+1}$ by\n",
    "\n",
    "\\begin{equation}\n",
    "\\boldsymbol{\\mathcal{T}}_{k}^{l+1}=\\boldsymbol{\\mathcal{T}}_{k}^{l}+\\rho_k\\left(\\boldsymbol{\\mathcal{X}}_{k}^{l+1}-\\boldsymbol{\\mathcal{Z}}_{k}^{l+1}\\right).\n",
    "\\end{equation}"
   ]
  },
  {
   "cell_type": "markdown",
   "metadata": {},
   "source": [
    "## Data Organization\n",
    "\n",
    "### 1) Matrix Structure\n",
    "\n",
    "We consider a dataset of $m$ discrete time series $\\boldsymbol{y}_{i}\\in\\mathbb{R}^{f},i\\in\\left\\{1,2,...,m\\right\\}$. The time series may have missing elements. We express spatio-temporal dataset as a matrix $Y\\in\\mathbb{R}^{m\\times f}$ with $m$ rows (e.g., locations) and $f$ columns (e.g., discrete time intervals),\n",
    "\n",
    "$$Y=\\left[ \\begin{array}{cccc} y_{11} & y_{12} & \\cdots & y_{1f} \\\\ y_{21} & y_{22} & \\cdots & y_{2f} \\\\ \\vdots & \\vdots & \\ddots & \\vdots \\\\ y_{m1} & y_{m2} & \\cdots & y_{mf} \\\\ \\end{array} \\right]\\in\\mathbb{R}^{m\\times f}.$$\n",
    "\n",
    "### 2) Tensor Structure\n",
    "\n",
    "We consider a dataset of $m$ discrete time series $\\boldsymbol{y}_{i}\\in\\mathbb{R}^{nf},i\\in\\left\\{1,2,...,m\\right\\}$. The time series may have missing elements. We partition each time series into intervals of predifined length $f$. We express each partitioned time series as a matrix $Y_{i}$ with $n$ rows (e.g., days) and $f$ columns (e.g., discrete time intervals per day),\n",
    "\n",
    "$$Y_{i}=\\left[ \\begin{array}{cccc} y_{11} & y_{12} & \\cdots & y_{1f} \\\\ y_{21} & y_{22} & \\cdots & y_{2f} \\\\ \\vdots & \\vdots & \\ddots & \\vdots \\\\ y_{n1} & y_{n2} & \\cdots & y_{nf} \\\\ \\end{array} \\right]\\in\\mathbb{R}^{n\\times f},i=1,2,...,m,$$\n",
    "\n",
    "therefore, the resulting structure is a tensor $\\mathcal{Y}\\in\\mathbb{R}^{m\\times n\\times f}$."
   ]
  },
  {
   "cell_type": "markdown",
   "metadata": {},
   "source": [
    "## Missing Data Imputation\n",
    "\n",
    "In the following, we apply the above defined TRMF function to the task of missing data imputation task on the following spatiotemporal multivariate time series datasets/matrices:\n",
    "\n",
    "- **Guangzhou data set**: [Guangzhou urban traffic speed data set](https://doi.org/10.5281/zenodo.1205228).\n",
    "- **Birmingham data set**: [Birmingham parking data set](https://archive.ics.uci.edu/ml/datasets/Parking+Birmingham).\n",
    "- **Hangzhou data set**: [Hangzhou metro passenger flow data set](https://doi.org/10.5281/zenodo.3145403).\n",
    "- **Settle data set**: [Seattle freeway traffic speed data set](https://github.com/zhiyongc/Seattle-Loop-Data).\n",
    "\n",
    "The original data sets have been adapted into our experiments, and it is now available at the fold of `datasets`."
   ]
  },
  {
   "cell_type": "markdown",
   "metadata": {},
   "source": [
    "### Experiments on Guangzhou Data Set"
   ]
  },
  {
   "cell_type": "code",
   "execution_count": 9,
   "metadata": {},
   "outputs": [],
   "source": [
    "import scipy.io\n",
    "\n",
    "tensor = scipy.io.loadmat('../datasets/Guangzhou-data-set/tensor.mat')\n",
    "dense_tensor = tensor['tensor']\n",
    "random_matrix = scipy.io.loadmat('../datasets/Guangzhou-data-set/random_matrix.mat')\n",
    "random_matrix = random_matrix['random_matrix']\n",
    "random_tensor = scipy.io.loadmat('../datasets/Guangzhou-data-set/random_tensor.mat')\n",
    "random_tensor = random_tensor['random_tensor']\n",
    "\n",
    "missing_rate = 0.2\n",
    "\n",
    "# =============================================================================\n",
    "### Random missing (RM) scenario:\n",
    "binary_tensor = np.round(random_tensor + 0.5 - missing_rate)\n",
    "# =============================================================================\n",
    "\n",
    "sparse_tensor = np.multiply(dense_tensor, binary_tensor)"
   ]
  },
  {
   "cell_type": "code",
   "execution_count": 54,
   "metadata": {},
   "outputs": [
    {
     "name": "stdout",
     "output_type": "stream",
     "text": [
      "Iter: 50\n",
      "RMSE: 2.84958\n",
      "\n",
      "Iter: 100\n",
      "RMSE: 2.84361\n",
      "\n",
      "Iter: 150\n",
      "RMSE: 2.84324\n",
      "\n",
      "Iter: 200\n",
      "RMSE: 2.84309\n",
      "\n",
      "Imputation MAPE: 0.0662603\n",
      "Imputation RMSE: 2.84309\n",
      "\n",
      "Running time: 127 seconds\n"
     ]
    }
   ],
   "source": [
    "import time\n",
    "start = time.time()\n",
    "alpha = np.ones(3) / 3\n",
    "rho = 0.002\n",
    "theta = 0.30\n",
    "maxiter = 200\n",
    "LRTC(dense_tensor, sparse_tensor, alpha, rho, theta, maxiter)\n",
    "end = time.time()\n",
    "print('Running time: %d seconds'%(end - start))"
   ]
  },
  {
   "cell_type": "code",
   "execution_count": 31,
   "metadata": {},
   "outputs": [],
   "source": [
    "import scipy.io\n",
    "\n",
    "tensor = scipy.io.loadmat('../datasets/Guangzhou-data-set/tensor.mat')\n",
    "dense_tensor = tensor['tensor']\n",
    "random_matrix = scipy.io.loadmat('../datasets/Guangzhou-data-set/random_matrix.mat')\n",
    "random_matrix = random_matrix['random_matrix']\n",
    "random_tensor = scipy.io.loadmat('../datasets/Guangzhou-data-set/random_tensor.mat')\n",
    "random_tensor = random_tensor['random_tensor']\n",
    "\n",
    "missing_rate = 0.4\n",
    "\n",
    "# =============================================================================\n",
    "### Random missing (RM) scenario:\n",
    "binary_tensor = np.round(random_tensor + 0.5 - missing_rate)\n",
    "# =============================================================================\n",
    "\n",
    "sparse_tensor = np.multiply(dense_tensor, binary_tensor)"
   ]
  },
  {
   "cell_type": "code",
   "execution_count": 32,
   "metadata": {},
   "outputs": [
    {
     "name": "stdout",
     "output_type": "stream",
     "text": [
      "Iter: 50\n",
      "RMSE: 7.74311\n",
      "\n",
      "Iter: 100\n",
      "RMSE: 3.10197\n",
      "\n",
      "Iter: 150\n",
      "RMSE: 3.11387\n",
      "\n",
      "Iter: 200\n",
      "RMSE: 3.11496\n",
      "\n",
      "Imputation MAPE: 0.0722136\n",
      "Imputation RMSE: 3.11496\n",
      "\n",
      "Running time: 142 seconds\n"
     ]
    }
   ],
   "source": [
    "import time\n",
    "start = time.time()\n",
    "alpha = np.ones(3) / 3\n",
    "rho = 0.002\n",
    "theta = 0.30\n",
    "maxiter = 200\n",
    "LRTC(dense_tensor, sparse_tensor, alpha, rho, theta, maxiter)\n",
    "end = time.time()\n",
    "print('Running time: %d seconds'%(end - start))"
   ]
  },
  {
   "cell_type": "code",
   "execution_count": 33,
   "metadata": {},
   "outputs": [],
   "source": [
    "import scipy.io\n",
    "\n",
    "tensor = scipy.io.loadmat('../datasets/Guangzhou-data-set/tensor.mat')\n",
    "dense_tensor = tensor['tensor']\n",
    "random_matrix = scipy.io.loadmat('../datasets/Guangzhou-data-set/random_matrix.mat')\n",
    "random_matrix = random_matrix['random_matrix']\n",
    "random_tensor = scipy.io.loadmat('../datasets/Guangzhou-data-set/random_tensor.mat')\n",
    "random_tensor = random_tensor['random_tensor']\n",
    "\n",
    "missing_rate = 0.2\n",
    "\n",
    "# =============================================================================\n",
    "### Non-random missing (NM) scenario:\n",
    "binary_tensor = np.zeros(dense_tensor.shape)\n",
    "for i1 in range(dense_tensor.shape[0]):\n",
    "    for i2 in range(dense_tensor.shape[1]):\n",
    "        binary_tensor[i1, i2, :] = np.round(random_matrix[i1, i2] + 0.5 - missing_rate)\n",
    "# =============================================================================\n",
    "\n",
    "sparse_tensor = np.multiply(dense_tensor, binary_tensor)"
   ]
  },
  {
   "cell_type": "code",
   "execution_count": 37,
   "metadata": {},
   "outputs": [
    {
     "name": "stdout",
     "output_type": "stream",
     "text": [
      "Iter: 50\n",
      "RMSE: 6.57525\n",
      "\n",
      "Iter: 100\n",
      "RMSE: 4.21873\n",
      "\n",
      "Iter: 150\n",
      "RMSE: 3.97082\n",
      "\n",
      "Iter: 200\n",
      "RMSE: 3.97132\n",
      "\n",
      "Imputation MAPE: 0.0938764\n",
      "Imputation RMSE: 3.97132\n",
      "\n",
      "Running time: 134 seconds\n"
     ]
    }
   ],
   "source": [
    "import time\n",
    "start = time.time()\n",
    "alpha = np.ones(3) / 3\n",
    "rho = 0.002\n",
    "theta = 0.05\n",
    "maxiter = 200\n",
    "LRTC(dense_tensor, sparse_tensor, alpha, rho, theta, maxiter)\n",
    "end = time.time()\n",
    "print('Running time: %d seconds'%(end - start))"
   ]
  },
  {
   "cell_type": "code",
   "execution_count": 20,
   "metadata": {},
   "outputs": [],
   "source": [
    "import scipy.io\n",
    "\n",
    "tensor = scipy.io.loadmat('../datasets/Guangzhou-data-set/tensor.mat')\n",
    "dense_tensor = tensor['tensor']\n",
    "random_matrix = scipy.io.loadmat('../datasets/Guangzhou-data-set/random_matrix.mat')\n",
    "random_matrix = random_matrix['random_matrix']\n",
    "random_tensor = scipy.io.loadmat('../datasets/Guangzhou-data-set/random_tensor.mat')\n",
    "random_tensor = random_tensor['random_tensor']\n",
    "\n",
    "missing_rate = 0.4\n",
    "\n",
    "# =============================================================================\n",
    "### Non-random missing (NM) scenario:\n",
    "binary_tensor = np.zeros(dense_tensor.shape)\n",
    "for i1 in range(dense_tensor.shape[0]):\n",
    "    for i2 in range(dense_tensor.shape[1]):\n",
    "        binary_tensor[i1, i2, :] = np.round(random_matrix[i1, i2] + 0.5 - missing_rate)\n",
    "# =============================================================================\n",
    "\n",
    "sparse_tensor = np.multiply(dense_tensor, binary_tensor)"
   ]
  },
  {
   "cell_type": "code",
   "execution_count": 21,
   "metadata": {},
   "outputs": [
    {
     "name": "stdout",
     "output_type": "stream",
     "text": [
      "Iter: 50\n",
      "RMSE: 4.07891\n",
      "\n",
      "Iter: 100\n",
      "RMSE: 4.06736\n",
      "\n",
      "Iter: 150\n",
      "RMSE: 4.06617\n",
      "\n",
      "Iter: 200\n",
      "RMSE: 4.06606\n",
      "\n",
      "Imputation MAPE: 0.0956982\n",
      "Imputation RMSE: 4.06606\n",
      "\n",
      "Running time: 123 seconds\n"
     ]
    }
   ],
   "source": [
    "import time\n",
    "start = time.time()\n",
    "alpha = np.ones(3) / 3\n",
    "rho = 0.0005\n",
    "theta = 0.05\n",
    "maxiter = 200\n",
    "LRTC(dense_tensor, sparse_tensor, alpha, rho, theta, maxiter)\n",
    "end = time.time()\n",
    "print('Running time: %d seconds'%(end - start))"
   ]
  },
  {
   "cell_type": "markdown",
   "metadata": {},
   "source": [
    "**Experiment results** of missing data imputation using LRTC-TNN:\n",
    "\n",
    "|  scenario |`alpha` (vector input)|`rho`|`theta`|`maxiter`|       mape |      rmse |\n",
    "|:----------|-----:|---------:|---------:|-------- --:|-------- --:|----------:|\n",
    "|**0.2, RM**| $\\left(\\frac{1}{3},\\frac{1}{3},\\frac{1}{3}\\right)$ | 0.002 | 0.30 | 200 | **0.0663** | **2.84**|\n",
    "|**0.4, RM**| $\\left(\\frac{1}{3},\\frac{1}{3},\\frac{1}{3}\\right)$ | 0.002 | 0.30 | 200 | **0.0722** | **3.11**|\n",
    "|**0.2, NM**| $\\left(\\frac{1}{3},\\frac{1}{3},\\frac{1}{3}\\right)$ | 0.002 | 0.05 | 200 | **0.0939** | **3.97**|\n",
    "|**0.4, NM**| $\\left(\\frac{1}{3},\\frac{1}{3},\\frac{1}{3}\\right)$ |0.0005 | 0.05 | 200 | **0.0957** | **4.07**|\n"
   ]
  },
  {
   "cell_type": "markdown",
   "metadata": {},
   "source": [
    "### Experiments on Birmingham Data Set\n"
   ]
  },
  {
   "cell_type": "code",
   "execution_count": 42,
   "metadata": {},
   "outputs": [],
   "source": [
    "import scipy.io\n",
    "\n",
    "tensor = scipy.io.loadmat('../datasets/Birmingham-data-set/tensor.mat')\n",
    "dense_tensor = tensor['tensor']\n",
    "random_matrix = scipy.io.loadmat('../datasets/Birmingham-data-set/random_matrix.mat')\n",
    "random_matrix = random_matrix['random_matrix']\n",
    "random_tensor = scipy.io.loadmat('../datasets/Birmingham-data-set/random_tensor.mat')\n",
    "random_tensor = random_tensor['random_tensor']\n",
    "\n",
    "missing_rate = 0.1\n",
    "\n",
    "# =============================================================================\n",
    "### Random missing (RM) scenario\n",
    "### Set the RM scenario by:\n",
    "binary_tensor = np.round(random_tensor + 0.5 - missing_rate)\n",
    "# =============================================================================\n",
    "\n",
    "sparse_tensor = np.multiply(dense_tensor, binary_tensor)"
   ]
  },
  {
   "cell_type": "code",
   "execution_count": 47,
   "metadata": {},
   "outputs": [
    {
     "name": "stdout",
     "output_type": "stream",
     "text": [
      "Iter: 50\n",
      "RMSE: 135.489\n",
      "\n",
      "Iter: 100\n",
      "RMSE: 12.3854\n",
      "\n",
      "Iter: 150\n",
      "RMSE: 12.3673\n",
      "\n",
      "Iter: 200\n",
      "RMSE: 12.3742\n",
      "\n",
      "Imputation MAPE: 0.0411626\n",
      "Imputation RMSE: 12.3742\n",
      "\n",
      "Running time: 2 seconds\n"
     ]
    }
   ],
   "source": [
    "import time\n",
    "start = time.time()\n",
    "alpha = np.ones(3) / 3\n",
    "rho = 0.0005\n",
    "theta = 0.20\n",
    "maxiter = 200\n",
    "LRTC(dense_tensor, sparse_tensor, alpha, rho, theta, maxiter)\n",
    "end = time.time()\n",
    "print('Running time: %d seconds'%(end - start))"
   ]
  },
  {
   "cell_type": "code",
   "execution_count": 49,
   "metadata": {},
   "outputs": [],
   "source": [
    "import scipy.io\n",
    "\n",
    "tensor = scipy.io.loadmat('../datasets/Birmingham-data-set/tensor.mat')\n",
    "dense_tensor = tensor['tensor']\n",
    "random_matrix = scipy.io.loadmat('../datasets/Birmingham-data-set/random_matrix.mat')\n",
    "random_matrix = random_matrix['random_matrix']\n",
    "random_tensor = scipy.io.loadmat('../datasets/Birmingham-data-set/random_tensor.mat')\n",
    "random_tensor = random_tensor['random_tensor']\n",
    "\n",
    "missing_rate = 0.3\n",
    "\n",
    "# =============================================================================\n",
    "### Random missing (RM) scenario\n",
    "### Set the RM scenario by:\n",
    "binary_tensor = np.round(random_tensor + 0.5 - missing_rate)\n",
    "# =============================================================================\n",
    "\n",
    "sparse_tensor = np.multiply(dense_tensor, binary_tensor)"
   ]
  },
  {
   "cell_type": "code",
   "execution_count": 59,
   "metadata": {},
   "outputs": [
    {
     "name": "stdout",
     "output_type": "stream",
     "text": [
      "Iter: 50\n",
      "RMSE: 281.746\n",
      "\n",
      "Iter: 100\n",
      "RMSE: 109.418\n",
      "\n",
      "Iter: 150\n",
      "RMSE: 21.0593\n",
      "\n",
      "Iter: 200\n",
      "RMSE: 17.507\n",
      "\n",
      "Imputation MAPE: 0.0521031\n",
      "Imputation RMSE: 17.507\n",
      "\n",
      "Running time: 2 seconds\n"
     ]
    }
   ],
   "source": [
    "import time\n",
    "start = time.time()\n",
    "alpha = np.ones(3) / 3\n",
    "rho = 0.0005\n",
    "theta = 0.15\n",
    "maxiter = 200\n",
    "LRTC(dense_tensor, sparse_tensor, alpha, rho, theta, maxiter)\n",
    "end = time.time()\n",
    "print('Running time: %d seconds'%(end - start))"
   ]
  },
  {
   "cell_type": "code",
   "execution_count": 60,
   "metadata": {},
   "outputs": [],
   "source": [
    "import scipy.io\n",
    "\n",
    "tensor = scipy.io.loadmat('../datasets/Birmingham-data-set/tensor.mat')\n",
    "dense_tensor = tensor['tensor']\n",
    "random_matrix = scipy.io.loadmat('../datasets/Birmingham-data-set/random_matrix.mat')\n",
    "random_matrix = random_matrix['random_matrix']\n",
    "random_tensor = scipy.io.loadmat('../datasets/Birmingham-data-set/random_tensor.mat')\n",
    "random_tensor = random_tensor['random_tensor']\n",
    "\n",
    "missing_rate = 0.1\n",
    "\n",
    "# =============================================================================\n",
    "### Non-random missing (NM) scenario\n",
    "### Set the RM scenario by:\n",
    "binary_tensor = np.zeros(dense_tensor.shape)\n",
    "for i1 in range(dense_tensor.shape[0]):\n",
    "    for i2 in range(dense_tensor.shape[1]):\n",
    "        binary_tensor[i1, i2, :] = np.round(random_matrix[i1, i2] + 0.5 - missing_rate)\n",
    "# =============================================================================\n",
    "\n",
    "sparse_tensor = np.multiply(dense_tensor, binary_tensor)"
   ]
  },
  {
   "cell_type": "code",
   "execution_count": 67,
   "metadata": {},
   "outputs": [
    {
     "name": "stdout",
     "output_type": "stream",
     "text": [
      "Iter: 50\n",
      "RMSE: 225.961\n",
      "\n",
      "Iter: 100\n",
      "RMSE: 20.8381\n",
      "\n",
      "Iter: 150\n",
      "RMSE: 20.8942\n",
      "\n",
      "Iter: 200\n",
      "RMSE: 20.9185\n",
      "\n",
      "Imputation MAPE: 0.0877233\n",
      "Imputation RMSE: 20.9185\n",
      "\n",
      "Running time: 2 seconds\n"
     ]
    }
   ],
   "source": [
    "import time\n",
    "start = time.time()\n",
    "alpha = np.ones(3) / 3\n",
    "rho = 0.0002\n",
    "theta = 0.10\n",
    "maxiter = 200\n",
    "LRTC(dense_tensor, sparse_tensor, alpha, rho, theta, maxiter)\n",
    "end = time.time()\n",
    "print('Running time: %d seconds'%(end - start))"
   ]
  },
  {
   "cell_type": "code",
   "execution_count": 68,
   "metadata": {},
   "outputs": [],
   "source": [
    "import scipy.io\n",
    "\n",
    "tensor = scipy.io.loadmat('../datasets/Birmingham-data-set/tensor.mat')\n",
    "dense_tensor = tensor['tensor']\n",
    "random_matrix = scipy.io.loadmat('../datasets/Birmingham-data-set/random_matrix.mat')\n",
    "random_matrix = random_matrix['random_matrix']\n",
    "random_tensor = scipy.io.loadmat('../datasets/Birmingham-data-set/random_tensor.mat')\n",
    "random_tensor = random_tensor['random_tensor']\n",
    "\n",
    "missing_rate = 0.3\n",
    "\n",
    "# =============================================================================\n",
    "### Non-random missing (NM) scenario\n",
    "### Set the RM scenario by:\n",
    "binary_tensor = np.zeros(dense_tensor.shape)\n",
    "for i1 in range(dense_tensor.shape[0]):\n",
    "    for i2 in range(dense_tensor.shape[1]):\n",
    "        binary_tensor[i1, i2, :] = np.round(random_matrix[i1, i2] + 0.5 - missing_rate)\n",
    "# =============================================================================\n",
    "\n",
    "sparse_tensor = np.multiply(dense_tensor, binary_tensor)"
   ]
  },
  {
   "cell_type": "code",
   "execution_count": 75,
   "metadata": {},
   "outputs": [
    {
     "name": "stdout",
     "output_type": "stream",
     "text": [
      "Iter: 50\n",
      "RMSE: 416.54\n",
      "\n",
      "Iter: 100\n",
      "RMSE: 186.726\n",
      "\n",
      "Iter: 150\n",
      "RMSE: 57.7627\n",
      "\n",
      "Iter: 200\n",
      "RMSE: 47.65\n",
      "\n",
      "Imputation MAPE: 0.13257\n",
      "Imputation RMSE: 47.65\n",
      "\n",
      "Running time: 2 seconds\n"
     ]
    }
   ],
   "source": [
    "import time\n",
    "start = time.time()\n",
    "alpha = np.ones(3) / 3\n",
    "rho = 0.0002\n",
    "theta = 0.05\n",
    "maxiter = 200\n",
    "LRTC(dense_tensor, sparse_tensor, alpha, rho, theta, maxiter)\n",
    "end = time.time()\n",
    "print('Running time: %d seconds'%(end - start))"
   ]
  },
  {
   "cell_type": "markdown",
   "metadata": {},
   "source": [
    "**Experiment results** of missing data imputation using LRTC-TNN:\n",
    "\n",
    "|  scenario |`alpha` (vector input)|`rho` | `theta` |`maxiter`|       mape |      rmse |\n",
    "|:----------|-----:|---------:|---------:|-------- --:|-------- --:|----------:|\n",
    "|**0.1, RM**| $\\left(\\frac{1}{3},\\frac{1}{3},\\frac{1}{3}\\right)$ | 0.0005 | 0.20 | 200 | **0.0412** | **12.37**|\n",
    "|**0.3, RM**| $\\left(\\frac{1}{3},\\frac{1}{3},\\frac{1}{3}\\right)$ | 0.0005 | 0.15 | 200 | **0.0521** | **17.51**|\n",
    "|**0.1, NM**| $\\left(\\frac{1}{3},\\frac{1}{3},\\frac{1}{3}\\right)$ | 0.0002 | 0.10 | 200 | **0.0877** | **20.92**|\n",
    "|**0.3, NM**| $\\left(\\frac{1}{3},\\frac{1}{3},\\frac{1}{3}\\right)$ | 0.0002 | 0.05 | 200 | **0.1326** | **47.65**|\n"
   ]
  },
  {
   "cell_type": "markdown",
   "metadata": {},
   "source": [
    "### Experiments on Hangzhou Data Set"
   ]
  },
  {
   "cell_type": "code",
   "execution_count": 76,
   "metadata": {},
   "outputs": [],
   "source": [
    "import scipy.io\n",
    "\n",
    "tensor = scipy.io.loadmat('../datasets/Hangzhou-data-set/tensor.mat')\n",
    "dense_tensor = tensor['tensor']\n",
    "random_matrix = scipy.io.loadmat('../datasets/Hangzhou-data-set/random_matrix.mat')\n",
    "random_matrix = random_matrix['random_matrix']\n",
    "random_tensor = scipy.io.loadmat('../datasets/Hangzhou-data-set/random_tensor.mat')\n",
    "random_tensor = random_tensor['random_tensor']\n",
    "\n",
    "missing_rate = 0.2\n",
    "\n",
    "# =============================================================================\n",
    "### Random missing (RM) scenario\n",
    "### Set the RM scenario by:\n",
    "binary_tensor = np.round(random_tensor + 0.5 - missing_rate)\n",
    "# =============================================================================\n",
    "\n",
    "sparse_tensor = np.multiply(dense_tensor, binary_tensor)"
   ]
  },
  {
   "cell_type": "code",
   "execution_count": 83,
   "metadata": {},
   "outputs": [
    {
     "name": "stdout",
     "output_type": "stream",
     "text": [
      "Iter: 50\n",
      "RMSE: 39.063\n",
      "\n",
      "Iter: 100\n",
      "RMSE: 24.9086\n",
      "\n",
      "Iter: 150\n",
      "RMSE: 24.6781\n",
      "\n",
      "Iter: 200\n",
      "RMSE: 24.6533\n",
      "\n",
      "Imputation MAPE: 0.181488\n",
      "Imputation RMSE: 24.6533\n",
      "\n",
      "Running time: 13 seconds\n"
     ]
    }
   ],
   "source": [
    "import time\n",
    "start = time.time()\n",
    "alpha = np.ones(3) / 3\n",
    "rho = 0.0002\n",
    "theta = 0.10\n",
    "maxiter = 200\n",
    "LRTC(dense_tensor, sparse_tensor, alpha, rho, theta, maxiter)\n",
    "end = time.time()\n",
    "print('Running time: %d seconds'%(end - start))"
   ]
  },
  {
   "cell_type": "code",
   "execution_count": 89,
   "metadata": {},
   "outputs": [],
   "source": [
    "import scipy.io\n",
    "\n",
    "tensor = scipy.io.loadmat('../datasets/Hangzhou-data-set/tensor.mat')\n",
    "dense_tensor = tensor['tensor']\n",
    "random_matrix = scipy.io.loadmat('../datasets/Hangzhou-data-set/random_matrix.mat')\n",
    "random_matrix = random_matrix['random_matrix']\n",
    "random_tensor = scipy.io.loadmat('../datasets/Hangzhou-data-set/random_tensor.mat')\n",
    "random_tensor = random_tensor['random_tensor']\n",
    "\n",
    "missing_rate = 0.4\n",
    "\n",
    "# =============================================================================\n",
    "### Random missing (RM) scenario\n",
    "### Set the RM scenario by:\n",
    "binary_tensor = np.round(random_tensor + 0.5 - missing_rate)\n",
    "# =============================================================================\n",
    "\n",
    "sparse_tensor = np.multiply(dense_tensor, binary_tensor)"
   ]
  },
  {
   "cell_type": "code",
   "execution_count": 90,
   "metadata": {},
   "outputs": [
    {
     "name": "stdout",
     "output_type": "stream",
     "text": [
      "Iter: 50\n",
      "RMSE: 48.7718\n",
      "\n",
      "Iter: 100\n",
      "RMSE: 35.2227\n",
      "\n",
      "Iter: 150\n",
      "RMSE: 26.5963\n",
      "\n",
      "Iter: 200\n",
      "RMSE: 25.7474\n",
      "\n",
      "Imputation MAPE: 0.187988\n",
      "Imputation RMSE: 25.7474\n",
      "\n",
      "Running time: 13 seconds\n"
     ]
    }
   ],
   "source": [
    "import time\n",
    "start = time.time()\n",
    "alpha = np.ones(3) / 3\n",
    "rho = 0.0002\n",
    "theta = 0.10\n",
    "maxiter = 200\n",
    "LRTC(dense_tensor, sparse_tensor, alpha, rho, theta, maxiter)\n",
    "end = time.time()\n",
    "print('Running time: %d seconds'%(end - start))"
   ]
  },
  {
   "cell_type": "code",
   "execution_count": 92,
   "metadata": {},
   "outputs": [],
   "source": [
    "import scipy.io\n",
    "\n",
    "tensor = scipy.io.loadmat('../datasets/Hangzhou-data-set/tensor.mat')\n",
    "dense_tensor = tensor['tensor']\n",
    "random_matrix = scipy.io.loadmat('../datasets/Hangzhou-data-set/random_matrix.mat')\n",
    "random_matrix = random_matrix['random_matrix']\n",
    "random_tensor = scipy.io.loadmat('../datasets/Hangzhou-data-set/random_tensor.mat')\n",
    "random_tensor = random_tensor['random_tensor']\n",
    "\n",
    "missing_rate = 0.2\n",
    "\n",
    "# =============================================================================\n",
    "### Non-random missing (NM) scenario\n",
    "### Set the NM scenario by:\n",
    "binary_tensor = np.zeros(dense_tensor.shape)\n",
    "for i1 in range(dense_tensor.shape[0]):\n",
    "    for i2 in range(dense_tensor.shape[1]):\n",
    "        binary_tensor[i1, i2, :] = np.round(random_matrix[i1, i2] + 0.5 - missing_rate)\n",
    "# =============================================================================\n",
    "\n",
    "sparse_tensor = np.multiply(dense_tensor, binary_tensor)"
   ]
  },
  {
   "cell_type": "code",
   "execution_count": 94,
   "metadata": {},
   "outputs": [
    {
     "name": "stdout",
     "output_type": "stream",
     "text": [
      "Iter: 50\n",
      "RMSE: 66.9782\n",
      "\n",
      "Iter: 100\n",
      "RMSE: 32.2313\n",
      "\n",
      "Iter: 150\n",
      "RMSE: 31.6912\n",
      "\n",
      "Iter: 200\n",
      "RMSE: 31.7906\n",
      "\n",
      "Imputation MAPE: 0.20379\n",
      "Imputation RMSE: 31.7906\n",
      "\n",
      "Running time: 11 seconds\n"
     ]
    }
   ],
   "source": [
    "import time\n",
    "start = time.time()\n",
    "alpha = np.ones(3) / 3\n",
    "rho = 0.0002\n",
    "theta = 0.05\n",
    "maxiter = 200\n",
    "LRTC(dense_tensor, sparse_tensor, alpha, rho, theta, maxiter)\n",
    "end = time.time()\n",
    "print('Running time: %d seconds'%(end - start))"
   ]
  },
  {
   "cell_type": "code",
   "execution_count": 103,
   "metadata": {},
   "outputs": [],
   "source": [
    "import scipy.io\n",
    "\n",
    "tensor = scipy.io.loadmat('../datasets/Hangzhou-data-set/tensor.mat')\n",
    "dense_tensor = tensor['tensor']\n",
    "random_matrix = scipy.io.loadmat('../datasets/Hangzhou-data-set/random_matrix.mat')\n",
    "random_matrix = random_matrix['random_matrix']\n",
    "random_tensor = scipy.io.loadmat('../datasets/Hangzhou-data-set/random_tensor.mat')\n",
    "random_tensor = random_tensor['random_tensor']\n",
    "\n",
    "missing_rate = 0.4\n",
    "\n",
    "# =============================================================================\n",
    "### Non-random missing (NM) scenario\n",
    "### Set the NM scenario by:\n",
    "binary_tensor = np.zeros(dense_tensor.shape)\n",
    "for i1 in range(dense_tensor.shape[0]):\n",
    "    for i2 in range(dense_tensor.shape[1]):\n",
    "        binary_tensor[i1, i2, :] = np.round(random_matrix[i1, i2] + 0.5 - missing_rate)\n",
    "# =============================================================================\n",
    "\n",
    "sparse_tensor = np.multiply(dense_tensor, binary_tensor)"
   ]
  },
  {
   "cell_type": "code",
   "execution_count": 105,
   "metadata": {},
   "outputs": [
    {
     "name": "stdout",
     "output_type": "stream",
     "text": [
      "Iter: 50\n",
      "RMSE: 83.7915\n",
      "\n",
      "Iter: 100\n",
      "RMSE: 54.7268\n",
      "\n",
      "Iter: 150\n",
      "RMSE: 33.813\n",
      "\n",
      "Iter: 200\n",
      "RMSE: 32.3401\n",
      "\n",
      "Imputation MAPE: 0.210977\n",
      "Imputation RMSE: 32.3401\n",
      "\n",
      "Running time: 13 seconds\n"
     ]
    }
   ],
   "source": [
    "import time\n",
    "start = time.time()\n",
    "alpha = np.ones(3) / 3\n",
    "rho = 0.0002\n",
    "theta = 0.05\n",
    "maxiter = 200\n",
    "LRTC(dense_tensor, sparse_tensor, alpha, rho, theta, maxiter)\n",
    "end = time.time()\n",
    "print('Running time: %d seconds'%(end - start))"
   ]
  },
  {
   "cell_type": "markdown",
   "metadata": {},
   "source": [
    "**Experiment results** of missing data imputation using LRTC-TNN:\n",
    "\n",
    "|  scenario |`alpha` (vector input)|`rho`|`theta`|`maxiter`|       mape |      rmse |\n",
    "|:----------|-----:|---------:|---------:|--------:|----------:|----------:|\n",
    "|**0.2, RM**| $\\left(\\frac{1}{3},\\frac{1}{3},\\frac{1}{3}\\right)$ | 0.0005 | 0.05 | 200 | **0.1792** | **25.00**|\n",
    "|**0.4, RM**| $\\left(\\frac{1}{3},\\frac{1}{3},\\frac{1}{3}\\right)$ | 0.0005 | 0.05 | 200 | **0.1857** | **26.15**|\n",
    "|**0.2, NM**| $\\left(\\frac{1}{3},\\frac{1}{3},\\frac{1}{3}\\right)$ | 0.0005 | 0.04 | 200 | **0.2033** | **27.85**|\n",
    "|**0.4, NM**| $\\left(\\frac{1}{3},\\frac{1}{3},\\frac{1}{3}\\right)$ | 0.0005 | 0.04 | 200 | **0.2093** | **29.89**|\n"
   ]
  },
  {
   "cell_type": "markdown",
   "metadata": {},
   "source": [
    "### Experiments on Seattle Data Set"
   ]
  },
  {
   "cell_type": "code",
   "execution_count": 106,
   "metadata": {},
   "outputs": [],
   "source": [
    "import pandas as pd\n",
    "\n",
    "dense_mat = pd.read_csv('../datasets/Seattle-data-set/mat.csv', index_col = 0)\n",
    "RM_mat = pd.read_csv('../datasets/Seattle-data-set/RM_mat.csv', index_col = 0)\n",
    "dense_mat = dense_mat.values\n",
    "RM_mat = RM_mat.values\n",
    "dense_tensor = dense_mat.reshape([dense_mat.shape[0], 28, 288])\n",
    "RM_tensor = RM_mat.reshape([RM_mat.shape[0], 28, 288])\n",
    "\n",
    "missing_rate = 0.2\n",
    "\n",
    "# =============================================================================\n",
    "### Random missing (RM) scenario\n",
    "### Set the RM scenario by:\n",
    "binary_tensor = np.round(RM_tensor + 0.5 - missing_rate)\n",
    "# =============================================================================\n",
    "\n",
    "sparse_tensor = np.multiply(dense_tensor, binary_tensor)"
   ]
  },
  {
   "cell_type": "code",
   "execution_count": 108,
   "metadata": {},
   "outputs": [
    {
     "name": "stdout",
     "output_type": "stream",
     "text": [
      "Iter: 50\n",
      "RMSE: 3.01931\n",
      "\n",
      "Iter: 100\n",
      "RMSE: 3.01648\n",
      "\n",
      "Iter: 150\n",
      "RMSE: 3.01518\n",
      "\n",
      "Iter: 200\n",
      "RMSE: 3.01493\n",
      "\n",
      "Imputation MAPE: 0.0460414\n",
      "Imputation RMSE: 3.01493\n",
      "\n",
      "Running time: 228 seconds\n"
     ]
    }
   ],
   "source": [
    "import time\n",
    "start = time.time()\n",
    "alpha = np.ones(3) / 3\n",
    "rho = 0.001\n",
    "theta = 0.30\n",
    "maxiter = 200\n",
    "LRTC(dense_tensor, sparse_tensor, alpha, rho, theta, maxiter)\n",
    "end = time.time()\n",
    "print('Running time: %d seconds'%(end - start))"
   ]
  },
  {
   "cell_type": "code",
   "execution_count": 112,
   "metadata": {},
   "outputs": [],
   "source": [
    "import pandas as pd\n",
    "\n",
    "dense_mat = pd.read_csv('../datasets/Seattle-data-set/mat.csv', index_col = 0)\n",
    "RM_mat = pd.read_csv('../datasets/Seattle-data-set/RM_mat.csv', index_col = 0)\n",
    "dense_mat = dense_mat.values\n",
    "RM_mat = RM_mat.values\n",
    "dense_tensor = dense_mat.reshape([dense_mat.shape[0], 28, 288])\n",
    "RM_tensor = RM_mat.reshape([RM_mat.shape[0], 28, 288])\n",
    "\n",
    "missing_rate = 0.4\n",
    "\n",
    "# =============================================================================\n",
    "### Random missing (RM) scenario\n",
    "### Set the RM scenario by:\n",
    "binary_tensor = np.round(RM_tensor + 0.5 - missing_rate)\n",
    "# =============================================================================\n",
    "\n",
    "sparse_tensor = np.multiply(dense_tensor, binary_tensor)"
   ]
  },
  {
   "cell_type": "code",
   "execution_count": 113,
   "metadata": {},
   "outputs": [
    {
     "name": "stdout",
     "output_type": "stream",
     "text": [
      "Iter: 50\n",
      "RMSE: 3.22771\n",
      "\n",
      "Iter: 100\n",
      "RMSE: 3.22321\n",
      "\n",
      "Iter: 150\n",
      "RMSE: 3.22076\n",
      "\n",
      "Iter: 200\n",
      "RMSE: 3.21982\n",
      "\n",
      "Imputation MAPE: 0.0501131\n",
      "Imputation RMSE: 3.21982\n",
      "\n",
      "Running time: 214 seconds\n"
     ]
    }
   ],
   "source": [
    "import time\n",
    "start = time.time()\n",
    "alpha = np.ones(3) / 3\n",
    "rho = 0.001\n",
    "theta = 0.30\n",
    "maxiter = 200\n",
    "LRTC(dense_tensor, sparse_tensor, alpha, rho, theta, maxiter)\n",
    "end = time.time()\n",
    "print('Running time: %d seconds'%(end - start))"
   ]
  },
  {
   "cell_type": "code",
   "execution_count": 120,
   "metadata": {},
   "outputs": [],
   "source": [
    "import pandas as pd\n",
    "\n",
    "dense_mat = pd.read_csv('../datasets/Seattle-data-set/mat.csv', index_col = 0)\n",
    "NM_mat = pd.read_csv('../datasets/Seattle-data-set/NM_mat.csv', index_col = 0)\n",
    "dense_mat = dense_mat.values\n",
    "NM_mat = NM_mat.values\n",
    "dense_tensor = dense_mat.reshape([dense_mat.shape[0], 28, 288])\n",
    "\n",
    "missing_rate = 0.2\n",
    "\n",
    "# =============================================================================\n",
    "### Non-random missing (NM) scenario\n",
    "### Set the NM scenario by:\n",
    "binary_tensor = np.zeros((dense_mat.shape[0], 28, 288))\n",
    "for i1 in range(binary_tensor.shape[0]):\n",
    "    for i2 in range(binary_tensor.shape[1]):\n",
    "        binary_tensor[i1, i2, :] = np.round(NM_mat[i1, i2] + 0.5 - missing_rate)\n",
    "# =============================================================================\n",
    "\n",
    "sparse_tensor = np.multiply(dense_tensor, binary_tensor)"
   ]
  },
  {
   "cell_type": "code",
   "execution_count": 121,
   "metadata": {},
   "outputs": [
    {
     "name": "stdout",
     "output_type": "stream",
     "text": [
      "Iter: 50\n",
      "RMSE: 4.20882\n",
      "\n",
      "Iter: 100\n",
      "RMSE: 4.18975\n",
      "\n",
      "Iter: 150\n",
      "RMSE: 4.18834\n",
      "\n",
      "Iter: 200\n",
      "RMSE: 4.18746\n",
      "\n",
      "Imputation MAPE: 0.069471\n",
      "Imputation RMSE: 4.18746\n",
      "\n",
      "Running time: 217 seconds\n"
     ]
    }
   ],
   "source": [
    "import time\n",
    "start = time.time()\n",
    "alpha = np.ones(3) / 3\n",
    "rho = 0.0005\n",
    "theta = 0.05\n",
    "maxiter = 200\n",
    "LRTC(dense_tensor, sparse_tensor, alpha, rho, theta, maxiter)\n",
    "end = time.time()\n",
    "print('Running time: %d seconds'%(end - start))"
   ]
  },
  {
   "cell_type": "code",
   "execution_count": 117,
   "metadata": {},
   "outputs": [],
   "source": [
    "import pandas as pd\n",
    "\n",
    "dense_mat = pd.read_csv('../datasets/Seattle-data-set/mat.csv', index_col = 0)\n",
    "NM_mat = pd.read_csv('../datasets/Seattle-data-set/NM_mat.csv', index_col = 0)\n",
    "dense_mat = dense_mat.values\n",
    "NM_mat = NM_mat.values\n",
    "dense_tensor = dense_mat.reshape([dense_mat.shape[0], 28, 288])\n",
    "\n",
    "missing_rate = 0.4\n",
    "\n",
    "# =============================================================================\n",
    "### Non-random missing (NM) scenario\n",
    "### Set the NM scenario by:\n",
    "binary_tensor = np.zeros((dense_mat.shape[0], 28, 288))\n",
    "for i1 in range(binary_tensor.shape[0]):\n",
    "    for i2 in range(binary_tensor.shape[1]):\n",
    "        binary_tensor[i1, i2, :] = np.round(NM_mat[i1, i2] + 0.5 - missing_rate)\n",
    "# =============================================================================\n",
    "\n",
    "sparse_tensor = np.multiply(dense_tensor, binary_tensor)"
   ]
  },
  {
   "cell_type": "code",
   "execution_count": 119,
   "metadata": {},
   "outputs": [
    {
     "name": "stdout",
     "output_type": "stream",
     "text": [
      "Iter: 50\n",
      "RMSE: 15.0981\n",
      "\n",
      "Iter: 100\n",
      "RMSE: 4.55854\n",
      "\n",
      "Iter: 150\n",
      "RMSE: 4.51553\n",
      "\n",
      "Iter: 200\n",
      "RMSE: 4.51677\n",
      "\n",
      "Imputation MAPE: 0.0762777\n",
      "Imputation RMSE: 4.51677\n",
      "\n",
      "Running time: 229 seconds\n"
     ]
    }
   ],
   "source": [
    "import time\n",
    "start = time.time()\n",
    "alpha = np.ones(3) / 3\n",
    "rho = 0.0005\n",
    "theta = 0.05\n",
    "maxiter = 200\n",
    "LRTC(dense_tensor, sparse_tensor, alpha, rho, theta, maxiter)\n",
    "end = time.time()\n",
    "print('Running time: %d seconds'%(end - start))"
   ]
  },
  {
   "cell_type": "markdown",
   "metadata": {},
   "source": [
    "**Experiment results** of missing data imputation using LRTC-TNN:\n",
    "\n",
    "|  scenario |`alpha` (vector input)|`rho`|`theta`|`maxiter`|       mape |      rmse |\n",
    "|:----------|-----:|---------:|---------:|---------:|-------- --:|----------:|\n",
    "|**0.2, RM**| $\\left(\\frac{1}{3},\\frac{1}{3},\\frac{1}{3}\\right)$ | 0.005 | 0.30 | 200 | **0.0467** | **3.07**|\n",
    "|**0.4, RM**| $\\left(\\frac{1}{3},\\frac{1}{3},\\frac{1}{3}\\right)$ | 0.001 | 0.30 | 200 | **0.0507** | **3.24**|\n",
    "|**0.2, NM**| $\\left(\\frac{1}{3},\\frac{1}{3},\\frac{1}{3}\\right)$ |0.0005 | 0.05 | 200 | **0.0720** | **4.30**|\n",
    "|**0.4, NM**| $\\left(\\frac{1}{3},\\frac{1}{3},\\frac{1}{3}\\right)$ |0.0005 | 0.05 | 200 | **0.0770** | **4.55**|\n"
   ]
  }
 ],
 "metadata": {
  "kernelspec": {
   "display_name": "Python 3",
   "language": "python",
   "name": "python3"
  },
  "language_info": {
   "codemirror_mode": {
    "name": "ipython",
    "version": 3
   },
   "file_extension": ".py",
   "mimetype": "text/x-python",
   "name": "python",
   "nbconvert_exporter": "python",
   "pygments_lexer": "ipython3",
   "version": "3.7.3"
  }
 },
 "nbformat": 4,
 "nbformat_minor": 2
}
